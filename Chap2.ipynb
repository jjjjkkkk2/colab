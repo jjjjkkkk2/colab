{
  "cells": [
    {
      "cell_type": "markdown",
      "metadata": {
        "id": "P-RTKYBxt8zy"
      },
      "source": [
        "# Chap2 流程控制"
      ]
    },
    {
      "cell_type": "markdown",
      "metadata": {
        "id": "joZ6wRNkt8z6"
      },
      "source": [
        "## if else , elif"
      ]
    },
    {
      "cell_type": "code",
      "execution_count": null,
      "metadata": {
        "id": "OXIVhN0Qt8z7",
        "outputId": "a7d4d6fe-2e13-4bf2-abf8-c9d44cb29381"
      },
      "outputs": [
        {
          "name": "stdout",
          "output_type": "stream",
          "text": [
            "b是比較大的數字\n"
          ]
        }
      ],
      "source": [
        "a=3\n",
        "b=4\n",
        "if a <= b:  #如果a小於等於b\n",
        "    print(\"b是比較大的數字\")\n",
        "else:  #否則\n",
        "    print(\"a是比較大的數字\")"
      ]
    },
    {
      "cell_type": "markdown",
      "metadata": {
        "id": "_UFhGo_At8z-"
      },
      "source": [
        "### 成績評鑑"
      ]
    },
    {
      "cell_type": "code",
      "execution_count": null,
      "metadata": {
        "id": "ohXufXk8t8z_",
        "outputId": "14d51216-bdd9-47d9-be46-a0301dcc131d"
      },
      "outputs": [
        {
          "name": "stdout",
          "output_type": "stream",
          "text": [
            "成績評鑑：\n",
            "甲等\n"
          ]
        }
      ],
      "source": [
        "grade=87\n",
        "print(\"成績評鑑：\")\n",
        "if grade >= 90:   #如果grade大於等於90\n",
        "    print(\"優等\")\n",
        "elif grade >=80:  #或如果grade大於等於80\n",
        "    print(\"甲等\")\n",
        "elif grade >=70:  #或如果grade大於等於70\n",
        "    print(\"乙等\")\n",
        "elif grade >=60:  #或如果grade大於等於60\n",
        "    print(\"丙等\")\n",
        "else:  #否則\n",
        "    print(\"不及格\")\n"
      ]
    },
    {
      "cell_type": "markdown",
      "metadata": {
        "id": "225YXHVKt80A"
      },
      "source": [
        "## for 迴圈"
      ]
    },
    {
      "cell_type": "code",
      "execution_count": null,
      "metadata": {
        "id": "uXsTKP6mt80B",
        "outputId": "d8b9a591-affc-48dd-dca9-b5c76c0930e4"
      },
      "outputs": [
        {
          "name": "stdout",
          "output_type": "stream",
          "text": [
            "1+2+3+...+10 = 55\n"
          ]
        }
      ],
      "source": [
        "#1+2+3...+10總和\n",
        "sum = 0\n",
        "for count in range(1, 11, 1): #從1開始，間隔1, 不包含11\n",
        "    sum += count   #sun=sun+count\n",
        "print(\"1+2+3+...+10 =\", sum)"
      ]
    },
    {
      "cell_type": "code",
      "execution_count": null,
      "metadata": {
        "id": "OweA3Rmdt80C",
        "outputId": "1f8aa4a0-dfa8-4e45-cba1-702514aefc06"
      },
      "outputs": [
        {
          "name": "stdout",
          "output_type": "stream",
          "text": [
            "1+2+3+...+10 = 55\n"
          ]
        }
      ],
      "source": [
        "#range另外一種寫法\n",
        "#1+2+3...+10總和\n",
        "sum = 0\n",
        "for count in range(11): #1-10, 不包含11\n",
        "    sum += count  #sun=sun+count\n",
        "print(\"1+2+3+...+10 =\", sum)"
      ]
    },
    {
      "cell_type": "code",
      "execution_count": null,
      "metadata": {
        "id": "YHqrg_LUt80D",
        "outputId": "8c89e4fa-0058-48d3-bd44-95c1dc0f54f6"
      },
      "outputs": [
        {
          "name": "stdout",
          "output_type": "stream",
          "text": [
            "f\n",
            "o\n",
            "r\n",
            " \n",
            "s\n",
            "t\n",
            "a\n",
            "t\n",
            "e\n",
            "m\n",
            "e\n",
            "n\n",
            "t\n",
            "end list\n"
          ]
        }
      ],
      "source": [
        "mylist=\"for statement\"\n",
        "for c in mylist:\n",
        "    print(c)\n",
        "print(\"end list\")"
      ]
    },
    {
      "cell_type": "code",
      "execution_count": null,
      "metadata": {
        "id": "GY9iFlXzt80E",
        "outputId": "72945239-dc8b-4960-9333-05be1b0d0393"
      },
      "outputs": [
        {
          "name": "stdout",
          "output_type": "stream",
          "text": [
            "Java\n",
            "C#\n",
            "Python\n"
          ]
        }
      ],
      "source": [
        "for pl in [\"Java\", \"C#\", \"Python\"]:\n",
        "    print(pl)"
      ]
    },
    {
      "cell_type": "markdown",
      "metadata": {
        "id": "EKgGKcNdt80F"
      },
      "source": [
        "### 雞兔同籠，若共有35個頭，94隻腳，請問有幾隻雞?幾隻兔?"
      ]
    },
    {
      "cell_type": "code",
      "execution_count": null,
      "metadata": {
        "id": "G0I9nV25t80F",
        "outputId": "71c50f06-7320-45a3-dbb4-ad944925ed35"
      },
      "outputs": [
        {
          "name": "stdout",
          "output_type": "stream",
          "text": [
            "雞有 23 隻,兔子有 12 隻\n"
          ]
        }
      ],
      "source": [
        "for chicken in range(0,36):\n",
        "    rabbit=35-chicken\n",
        "    if (2*chicken+4*rabbit) == 94:\n",
        "        print(\"雞有\",chicken,\"隻,兔子有\",rabbit,\"隻\")\n",
        "        break\n",
        "else:\n",
        "    print(\"無解\")"
      ]
    },
    {
      "cell_type": "markdown",
      "metadata": {
        "id": "So-DhfQIt80G"
      },
      "source": [
        "## while迴圈"
      ]
    },
    {
      "cell_type": "code",
      "execution_count": null,
      "metadata": {
        "id": "s_eh5q9Vt80H",
        "outputId": "1a371f1f-a2ee-4ced-9b7b-d64180c80525"
      },
      "outputs": [
        {
          "name": "stdout",
          "output_type": "stream",
          "text": [
            "1+2+3+...+10= 55\n"
          ]
        }
      ],
      "source": [
        "sum=0\n",
        "count=1\n",
        "while count <=10:   #當count小於或等於10時重複動作\n",
        "    sum += count\n",
        "    count += 1\n",
        "print(\"1+2+3+...+10=\",sum)"
      ]
    },
    {
      "cell_type": "markdown",
      "metadata": {
        "id": "qkPZi6Ept80I"
      },
      "source": [
        "### 本金10000元，定存年利率0.6%，請問多久銀行存款會翻倍"
      ]
    },
    {
      "cell_type": "code",
      "execution_count": null,
      "metadata": {
        "id": "wiLWWcR3t80I",
        "outputId": "40592225-0b80-44a3-f6fe-bb4e2abb600f"
      },
      "outputs": [
        {
          "name": "stdout",
          "output_type": "stream",
          "text": [
            "116 年以後，存款加倍，為 20015 元\n"
          ]
        }
      ],
      "source": [
        "x=10000\n",
        "years=0\n",
        "while x <= 20000:  #當x小於或等於20000時重複動作\n",
        "    x=x*1.006\n",
        "    years += 1\n",
        "print(str(years), \"年以後，存款加倍，為\", int(x),\"元\")"
      ]
    },
    {
      "cell_type": "markdown",
      "metadata": {
        "id": "279vnM8Ht80J"
      },
      "source": [
        "### 帳號密碼判斷"
      ]
    },
    {
      "cell_type": "code",
      "execution_count": null,
      "metadata": {
        "id": "sjLUkaejt80J",
        "outputId": "118606b4-9ae7-4d17-809f-07f1350a1585"
      },
      "outputs": [
        {
          "name": "stdout",
          "output_type": "stream",
          "text": [
            "請輸入帳號：sa;djf\n",
            "請輸入密碼：adsjf;a\n",
            "帳號或密碼輸入錯誤\n",
            "請輸入帳號：tony\n",
            "請輸入密碼：asdf\n",
            "帳號或密碼輸入錯誤\n",
            "請輸入帳號：asdf\n",
            "請輸入密碼：1234\n",
            "帳號或密碼輸入錯誤\n",
            "請輸入帳號：tony\n",
            "請輸入密碼：1234\n",
            "歡迎登入\n"
          ]
        }
      ],
      "source": [
        "id=\"tony\"\n",
        "pwd=\"1234\"\n",
        "while True:\n",
        "    x=input(\"請輸入帳號：\")\n",
        "    y=input(\"請輸入密碼：\")\n",
        "    if (x==id and y==pwd):\n",
        "        print(\"歡迎登入\")\n",
        "        break\n",
        "    else:\n",
        "        print(\"帳號或密碼輸入錯誤\")"
      ]
    },
    {
      "cell_type": "markdown",
      "metadata": {
        "id": "iExK5FHNt80K"
      },
      "source": [
        "## 亂數"
      ]
    },
    {
      "cell_type": "code",
      "execution_count": null,
      "metadata": {
        "id": "aErovgxUt80K",
        "outputId": "435e0d8f-4f20-4aa5-91f9-02dedbf9c9fa"
      },
      "outputs": [
        {
          "name": "stdout",
          "output_type": "stream",
          "text": [
            "6\n",
            "5\n",
            "7\n",
            "5\n",
            "9\n",
            "2\n",
            "9\n",
            "1\n",
            "9\n",
            "2\n"
          ]
        }
      ],
      "source": [
        "import random\n",
        "for i in range(0,10):\n",
        "    print(random.randint(1,9))"
      ]
    },
    {
      "cell_type": "markdown",
      "metadata": {
        "id": "0l_zpxgAt80L"
      },
      "source": [
        "### 猜數字"
      ]
    },
    {
      "cell_type": "code",
      "execution_count": null,
      "metadata": {
        "id": "c2c31mWXt80L",
        "outputId": "e6a82a78-e44a-4108-ff22-f4173f35012b"
      },
      "outputs": [
        {
          "name": "stdout",
          "output_type": "stream",
          "text": [
            "請輸入1~20之間的數字-->10\n",
            "你猜錯了\n",
            "請輸入1~20之間的數字-->9\n",
            "你猜錯了\n",
            "請輸入1~20之間的數字-->8\n",
            "你猜錯了\n",
            "請輸入1~20之間的數字-->7\n",
            "你猜錯了\n",
            "請輸入1~20之間的數字-->6\n",
            "你猜錯了\n",
            "請輸入1~20之間的數字-->5\n",
            "你猜錯了\n",
            "請輸入1~20之間的數字-->4\n",
            "你猜錯了\n",
            "請輸入1~20之間的數字-->3\n",
            "你猜錯了\n",
            "請輸入1~20之間的數字-->2\n",
            "你猜錯了\n",
            "請輸入1~20之間的數字-->1\n",
            "你猜錯了\n",
            "請輸入1~20之間的數字-->11\n",
            "你猜錯了\n",
            "請輸入1~20之間的數字-->12\n",
            "你猜錯了\n",
            "請輸入1~20之間的數字-->13\n",
            "你猜對了，數字是 13\n"
          ]
        }
      ],
      "source": [
        "import random\n",
        "number=random.randint(1,20)  #產生亂數1~20\n",
        "while True:\n",
        "    guess=int(input(\"請輸入1~20之間的數字-->\"))\n",
        "    if guess == number:\n",
        "        print(\"你猜對了，數字是\", number)\n",
        "        break   #返回\n",
        "    else:\n",
        "        print(\"你猜錯了\")"
      ]
    },
    {
      "cell_type": "code",
      "execution_count": null,
      "metadata": {
        "collapsed": true,
        "id": "gQ80W7Myt80M"
      },
      "outputs": [],
      "source": [
        ""
      ]
    }
  ],
  "metadata": {
    "kernelspec": {
      "display_name": "Python 3",
      "language": "python",
      "name": "python3"
    },
    "language_info": {
      "codemirror_mode": {
        "name": "ipython",
        "version": 3
      },
      "file_extension": ".py",
      "mimetype": "text/x-python",
      "name": "python",
      "nbconvert_exporter": "python",
      "pygments_lexer": "ipython3",
      "version": "3.6.3"
    },
    "colab": {
      "name": "Chap2.ipynb",
      "provenance": []
    }
  },
  "nbformat": 4,
  "nbformat_minor": 0
}