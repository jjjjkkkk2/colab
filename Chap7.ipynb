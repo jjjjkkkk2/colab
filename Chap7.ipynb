{
  "cells": [
    {
      "cell_type": "markdown",
      "metadata": {
        "id": "rlVG-ure2Lq7"
      },
      "source": [
        "# Chap7 錯誤處理\n",
        "try:  \n",
        "except:  \n",
        "else:  \n",
        "finally:  "
      ]
    },
    {
      "cell_type": "code",
      "execution_count": null,
      "metadata": {
        "id": "cmnTiMb12LrD",
        "outputId": "48857b75-84a2-4a91-8405-e061a416066b"
      },
      "outputs": [
        {
          "ename": "NameError",
          "evalue": "name 'n' is not defined",
          "output_type": "error",
          "traceback": [
            "\u001b[1;31m---------------------------------------------------------------------------\u001b[0m",
            "\u001b[1;31mNameError\u001b[0m                                 Traceback (most recent call last)",
            "\u001b[1;32m<ipython-input-4-c19f432ee023>\u001b[0m in \u001b[0;36m<module>\u001b[1;34m\u001b[0m\n\u001b[0;32m      2\u001b[0m \u001b[0mb\u001b[0m\u001b[1;33m=\u001b[0m\u001b[1;36m20\u001b[0m\u001b[1;33m\u001b[0m\u001b[1;33m\u001b[0m\u001b[0m\n\u001b[0;32m      3\u001b[0m \u001b[1;32mif\u001b[0m \u001b[0ma\u001b[0m\u001b[1;33m<\u001b[0m\u001b[0mb\u001b[0m\u001b[1;33m:\u001b[0m\u001b[1;33m\u001b[0m\u001b[1;33m\u001b[0m\u001b[0m\n\u001b[1;32m----> 4\u001b[1;33m     \u001b[0mprint\u001b[0m\u001b[1;33m(\u001b[0m\u001b[0mn\u001b[0m\u001b[1;33m)\u001b[0m\u001b[1;33m\u001b[0m\u001b[1;33m\u001b[0m\u001b[0m\n\u001b[0m",
            "\u001b[1;31mNameError\u001b[0m: name 'n' is not defined"
          ]
        }
      ],
      "source": [
        "a=10\n",
        "b=20\n",
        "if a<b:  #如果a小於b\n",
        "    print(n)  #顯示n"
      ]
    },
    {
      "cell_type": "code",
      "execution_count": null,
      "metadata": {
        "id": "n_HRCPxq2LrH",
        "outputId": "84fd4d3a-6f30-4af3-ed42-049fe66c44ac"
      },
      "outputs": [
        {
          "name": "stdout",
          "output_type": "stream",
          "text": [
            "錯誤產生\n"
          ]
        }
      ],
      "source": [
        "a=10\n",
        "b=20\n",
        "try:  #執行 try 底下的程式碼\n",
        "    if a<b:  #如果a小於b\n",
        "        print(n)  #顯示n\n",
        "except:  #在過程中產生了例外，就會接著執行 except 下的程式碼\n",
        "    print(\"錯誤產生\")   #顯示 錯誤產生"
      ]
    },
    {
      "cell_type": "markdown",
      "metadata": {
        "id": "Pbm8ZWRm2LrJ"
      },
      "source": [
        "## 指定錯誤類別處理"
      ]
    },
    {
      "cell_type": "code",
      "execution_count": null,
      "metadata": {
        "id": "YjQhpIe42LrK",
        "outputId": "f05fc729-e041-48bc-8309-b74f9f101827"
      },
      "outputs": [
        {
          "name": "stdout",
          "output_type": "stream",
          "text": [
            "錯誤產生, 錯誤原因： name 'n' is not defined\n"
          ]
        }
      ],
      "source": [
        "a=10\n",
        "b=20\n",
        "try: #執行 try 底下的程式碼\n",
        "    if a<b:  #如果a小於b\n",
        "        print(n)  #顯示n\n",
        "except NameError as e:\n",
        "    print(\"錯誤產生, 錯誤原因：\",e)  #顯示 錯誤產生, 錯誤原因: 和 (錯誤原因)\n",
        "except ZeroDivisionError:\n",
        "    print(\"除以0錯誤\")  #顯示 除以0錯誤"
      ]
    },
    {
      "cell_type": "markdown",
      "metadata": {
        "id": "x4OFX7BI2LrL"
      },
      "source": [
        "## else\n",
        "沒有錯誤產生會執行的部分"
      ]
    },
    {
      "cell_type": "code",
      "execution_count": null,
      "metadata": {
        "id": "ocHm2ZPu2LrM",
        "outputId": "21094cd4-16e5-44b1-be12-ea627cce3d07"
      },
      "outputs": [
        {
          "name": "stdout",
          "output_type": "stream",
          "text": [
            "沒有錯誤發生時會執行的部分\n"
          ]
        }
      ],
      "source": [
        "a=10\n",
        "b=20\n",
        "try:  #執行 try 底下的程式碼\n",
        "    if a>b: #改變比較條件，讓錯誤不發生\n",
        "        print(n)  #顯示n\n",
        "except:  #在過程中產生了例外，就會接著執行 except 下的程式碼\n",
        "    print(\"錯誤發生\") #顯示 錯誤發生\n",
        "else: #否則\n",
        "    print(\"沒有錯誤發生時會執行的部分\") #顯示 沒有錯誤發生時會執行的部分"
      ]
    },
    {
      "cell_type": "code",
      "execution_count": null,
      "metadata": {
        "id": "CLEsoMKG2LrN",
        "outputId": "9119b1f3-eef4-42e5-d29e-8545bd70bb60"
      },
      "outputs": [
        {
          "name": "stdout",
          "output_type": "stream",
          "text": [
            "沒有錯誤發生時會執行的部分\n",
            "不管有沒有錯誤一定會執行的部分\n"
          ]
        }
      ],
      "source": [
        "a=10\n",
        "b=20\n",
        "try:  #執行 try 底下的程式碼\n",
        "    if a>b: #改變比較條件，讓錯誤不發生\n",
        "        print(n)\n",
        "except:  #在過程中產生了例外，就會接著執行 except 下的程式碼\n",
        "    print(\"錯誤發生\") #顯示 錯誤發生\n",
        "else: #否則 \n",
        "    print(\"沒有錯誤發生時會執行的部分\")  #顯示 沒有錯誤發生時會執行的部分\n",
        "finally: #最後\n",
        "    print(\"不管有沒有錯誤一定會執行的部分\")  #顯示 不管有沒有錯誤一定會執行的部分"
      ]
    },
    {
      "cell_type": "code",
      "execution_count": null,
      "metadata": {
        "id": "CGkQIpTH2LrP"
      },
      "outputs": [],
      "source": [
        ""
      ]
    }
  ],
  "metadata": {
    "kernelspec": {
      "display_name": "Python 3",
      "language": "python",
      "name": "python3"
    },
    "language_info": {
      "codemirror_mode": {
        "name": "ipython",
        "version": 3
      },
      "file_extension": ".py",
      "mimetype": "text/x-python",
      "name": "python",
      "nbconvert_exporter": "python",
      "pygments_lexer": "ipython3",
      "version": "3.8.5"
    },
    "colab": {
      "name": "Chap7.ipynb",
      "provenance": []
    }
  },
  "nbformat": 4,
  "nbformat_minor": 0
}