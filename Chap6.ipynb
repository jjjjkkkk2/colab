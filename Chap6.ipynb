{
  "cells": [
    {
      "cell_type": "markdown",
      "metadata": {
        "id": "8-0kS0ee3xDG"
      },
      "source": [
        "# Chap6\n",
        "os套件：用來處理文件與目錄，與檔案相關操作"
      ]
    },
    {
      "cell_type": "code",
      "execution_count": null,
      "metadata": {
        "id": "zGL13Vy83xDP",
        "outputId": "2e09481e-ab7c-4df7-d731-d2685530fa39"
      },
      "outputs": [
        {
          "name": "stdout",
          "output_type": "stream",
          "text": [
            "C:\\Users\\Administrator\n"
          ]
        }
      ],
      "source": [
        "import os\n",
        "print(os.getcwd()) #顯示目前所在的工作目錄"
      ]
    },
    {
      "cell_type": "code",
      "execution_count": null,
      "metadata": {
        "id": "3ZNCpSt03xDV",
        "outputId": "a62d4067-7359-4868-c6c2-7950e6ce209b"
      },
      "outputs": [
        {
          "data": {
            "text/plain": [
              "['.conda',\n",
              " '.condarc',\n",
              " '.config',\n",
              " '.dotnet',\n",
              " '.eclipse',\n",
              " '.ipynb_checkpoints',\n",
              " '.ipython',\n",
              " '.p2',\n",
              " '.packettracer',\n",
              " '.templateengine',\n",
              " '.tooling',\n",
              " '.VirtualBox',\n",
              " '.vscode',\n",
              " '3D Objects',\n",
              " 'anaconda3',\n",
              " 'AppData',\n",
              " 'Application Data',\n",
              " 'Chap6_inclass.ipynb',\n",
              " 'Cisco Packet Tracer 6.1.1sv',\n",
              " 'Cisco Packet Tracer 7.3.0',\n",
              " 'Cisco Packet Tracer 7.3.1',\n",
              " 'Contacts',\n",
              " 'Cookies',\n",
              " 'Desktop',\n",
              " 'Documents',\n",
              " 'Downloads',\n",
              " 'Favorites',\n",
              " 'Intel',\n",
              " 'IntelGraphicsProfiles',\n",
              " 'Links',\n",
              " 'Local Settings',\n",
              " 'MicrosoftEdgeBackups',\n",
              " 'Music',\n",
              " 'My Documents',\n",
              " 'NetHood',\n",
              " 'NTUSER.DAT',\n",
              " 'ntuser.dat.LOG1',\n",
              " 'ntuser.dat.LOG2',\n",
              " 'NTUSER.DAT{53b39e88-18c4-11ea-a811-000d3aa4692b}.TM.blf',\n",
              " 'NTUSER.DAT{53b39e88-18c4-11ea-a811-000d3aa4692b}.TMContainer00000000000000000001.regtrans-ms',\n",
              " 'NTUSER.DAT{53b39e88-18c4-11ea-a811-000d3aa4692b}.TMContainer00000000000000000002.regtrans-ms',\n",
              " 'ntuser.ini',\n",
              " 'Oracle',\n",
              " 'Pictures',\n",
              " 'PrintHood',\n",
              " 'Recent',\n",
              " 'Saved Games',\n",
              " 'Searches',\n",
              " 'SendTo',\n",
              " 'source',\n",
              " 'Templates',\n",
              " 'Videos',\n",
              " 'VirtualBox VMs',\n",
              " '「開始」功能表']"
            ]
          },
          "execution_count": 2,
          "metadata": {},
          "output_type": "execute_result"
        }
      ],
      "source": [
        "#顯示目錄下的檔案\n",
        "os.listdir(\".\") "
      ]
    },
    {
      "cell_type": "code",
      "execution_count": null,
      "metadata": {
        "id": "I6UOTAdQ3xDW",
        "outputId": "71aa8561-e7c2-4206-dda1-f30cd47fdf49"
      },
      "outputs": [
        {
          "data": {
            "text/plain": [
              "['.conda',\n",
              " '.condarc',\n",
              " '.config',\n",
              " '.dotnet',\n",
              " '.eclipse',\n",
              " '.ipynb_checkpoints',\n",
              " '.ipython',\n",
              " '.p2',\n",
              " '.packettracer',\n",
              " '.templateengine',\n",
              " '.tooling',\n",
              " '.VirtualBox',\n",
              " '.vscode',\n",
              " '3D Objects',\n",
              " 'anaconda3',\n",
              " 'AppData',\n",
              " 'Application Data',\n",
              " 'Chap6_inclass.ipynb',\n",
              " 'Cisco Packet Tracer 6.1.1sv',\n",
              " 'Cisco Packet Tracer 7.3.0',\n",
              " 'Cisco Packet Tracer 7.3.1',\n",
              " 'Contacts',\n",
              " 'Cookies',\n",
              " 'Desktop',\n",
              " 'Documents',\n",
              " 'Downloads',\n",
              " 'Favorites',\n",
              " 'Intel',\n",
              " 'IntelGraphicsProfiles',\n",
              " 'Links',\n",
              " 'Local Settings',\n",
              " 'MicrosoftEdgeBackups',\n",
              " 'Music',\n",
              " 'My Documents',\n",
              " 'NetHood',\n",
              " 'NTUSER.DAT',\n",
              " 'ntuser.dat.LOG1',\n",
              " 'ntuser.dat.LOG2',\n",
              " 'NTUSER.DAT{53b39e88-18c4-11ea-a811-000d3aa4692b}.TM.blf',\n",
              " 'NTUSER.DAT{53b39e88-18c4-11ea-a811-000d3aa4692b}.TMContainer00000000000000000001.regtrans-ms',\n",
              " 'NTUSER.DAT{53b39e88-18c4-11ea-a811-000d3aa4692b}.TMContainer00000000000000000002.regtrans-ms',\n",
              " 'ntuser.ini',\n",
              " 'Oracle',\n",
              " 'Pictures',\n",
              " 'PrintHood',\n",
              " 'Recent',\n",
              " 'Saved Games',\n",
              " 'Searches',\n",
              " 'SendTo',\n",
              " 'source',\n",
              " 'Templates',\n",
              " 'test',\n",
              " 'Videos',\n",
              " 'VirtualBox VMs',\n",
              " '「開始」功能表']"
            ]
          },
          "execution_count": 3,
          "metadata": {},
          "output_type": "execute_result"
        }
      ],
      "source": [
        "#新增目錄\n",
        "os.makedirs(\"test\") \n",
        "os.listdir(\".\") #os.listdir() 方法將返回當前工作目錄中所有文件和目錄的列表"
      ]
    },
    {
      "cell_type": "code",
      "execution_count": null,
      "metadata": {
        "id": "sxVSq9643xDY",
        "outputId": "70580d9d-8f6d-451e-b95d-1493067a44f2"
      },
      "outputs": [
        {
          "data": {
            "text/plain": [
              "['.conda',\n",
              " '.condarc',\n",
              " '.config',\n",
              " '.dotnet',\n",
              " '.eclipse',\n",
              " '.ipynb_checkpoints',\n",
              " '.ipython',\n",
              " '.p2',\n",
              " '.packettracer',\n",
              " '.templateengine',\n",
              " '.tooling',\n",
              " '.VirtualBox',\n",
              " '.vscode',\n",
              " '3D Objects',\n",
              " 'anaconda3',\n",
              " 'AppData',\n",
              " 'Application Data',\n",
              " 'Chap6_inclass.ipynb',\n",
              " 'Cisco Packet Tracer 6.1.1sv',\n",
              " 'Cisco Packet Tracer 7.3.0',\n",
              " 'Cisco Packet Tracer 7.3.1',\n",
              " 'Contacts',\n",
              " 'Cookies',\n",
              " 'Desktop',\n",
              " 'Documents',\n",
              " 'Downloads',\n",
              " 'Favorites',\n",
              " 'Intel',\n",
              " 'IntelGraphicsProfiles',\n",
              " 'Links',\n",
              " 'Local Settings',\n",
              " 'MicrosoftEdgeBackups',\n",
              " 'Music',\n",
              " 'My Documents',\n",
              " 'NetHood',\n",
              " 'NTUSER.DAT',\n",
              " 'ntuser.dat.LOG1',\n",
              " 'ntuser.dat.LOG2',\n",
              " 'NTUSER.DAT{53b39e88-18c4-11ea-a811-000d3aa4692b}.TM.blf',\n",
              " 'NTUSER.DAT{53b39e88-18c4-11ea-a811-000d3aa4692b}.TMContainer00000000000000000001.regtrans-ms',\n",
              " 'NTUSER.DAT{53b39e88-18c4-11ea-a811-000d3aa4692b}.TMContainer00000000000000000002.regtrans-ms',\n",
              " 'ntuser.ini',\n",
              " 'Oracle',\n",
              " 'Pictures',\n",
              " 'PrintHood',\n",
              " 'Recent',\n",
              " 'Saved Games',\n",
              " 'Searches',\n",
              " 'SendTo',\n",
              " 'source',\n",
              " 'Templates',\n",
              " 'Videos',\n",
              " 'VirtualBox VMs',\n",
              " '「開始」功能表']"
            ]
          },
          "execution_count": 4,
          "metadata": {},
          "output_type": "execute_result"
        }
      ],
      "source": [
        "#移除目錄\n",
        "os.rmdir(\"test\") \n",
        "os.listdir(\".\") #os.listdir() 方法將返回當前工作目錄中所有文件和目錄的列表"
      ]
    },
    {
      "cell_type": "markdown",
      "metadata": {
        "id": "fymThd-43xDZ"
      },
      "source": [
        "## 檔案處理\n",
        "os套件有自己的檔案處理命令，而比較常用的是python內建的open\n",
        "* w = 可寫(預設建立檔案) 若檔案存在則會清除舊檔案\n",
        "* w+ = 可寫可讀(預設建立檔案) 若檔案存在則會清除舊檔案\n",
        "* r = 可讀\n",
        "* r+ = 可寫可讀 但寫入資料指向開頭\n",
        "* a = 可寫不能讀 寫入資料指向尾端\n",
        "* a+ = 可寫可讀 寫入資料指向尾端\n",
        "* b = 轉為2進位文件\n",
        "* ab+ = 2進位文件的讀寫 寫入資料指向尾端"
      ]
    },
    {
      "cell_type": "markdown",
      "metadata": {
        "id": "vfUJWPl53xDa"
      },
      "source": [
        "## 新增檔案"
      ]
    },
    {
      "cell_type": "code",
      "execution_count": null,
      "metadata": {
        "id": "hmAOCoVa3xDc"
      },
      "outputs": [],
      "source": [
        "a=open(\"a.txt\",\"w\") #新增檔案\n",
        "a.write(\"This is a test1\")  #write是一個將字串寫入文件中的方法，在a文件中寫入 This is a test1\n",
        "a.write(\"This is a test2\\n\") #在a文件中寫入 This is a test2\\n\n",
        "a.write(\"This is a test3\\n\") #在a文件中寫入 This is a test3\\n\n",
        "a.close() #關閉檔案"
      ]
    },
    {
      "cell_type": "markdown",
      "metadata": {
        "id": "fLPPnnYS3xDd"
      },
      "source": [
        "## 檢查檔案是否存在"
      ]
    },
    {
      "cell_type": "code",
      "execution_count": null,
      "metadata": {
        "id": "dQuw2bUY3xDe",
        "outputId": "20e0b4b8-deec-463e-c914-43c61c844618"
      },
      "outputs": [
        {
          "data": {
            "text/plain": [
              "True"
            ]
          },
          "execution_count": 6,
          "metadata": {},
          "output_type": "execute_result"
        }
      ],
      "source": [
        "os.path.isfile(\"a.txt\")"
      ]
    },
    {
      "cell_type": "markdown",
      "metadata": {
        "id": "837sTVlT3xDf"
      },
      "source": [
        "## 讀取檔案"
      ]
    },
    {
      "cell_type": "code",
      "execution_count": null,
      "metadata": {
        "id": "6nwpirQr3xDg",
        "outputId": "e4bc6e63-e968-4e67-93a9-b5790e311d59"
      },
      "outputs": [
        {
          "name": "stdout",
          "output_type": "stream",
          "text": [
            "This is a test1This is a test2\n",
            "\n",
            "This is a test3\n",
            "\n",
            "\n"
          ]
        }
      ],
      "source": [
        "a=open(\"a.txt\",\"r\") #打開檔案，可讀\n",
        "print(a.readline()) #顯示讀取的檔案\n",
        "print(a.readline()) #顯示讀取的檔案\n",
        "print(a.readline()) #多餘的命令，檔案只有2行\n",
        "a.close()  #close() 方法用於關閉一個已打開的文件"
      ]
    },
    {
      "cell_type": "code",
      "execution_count": null,
      "metadata": {
        "id": "Cz6izuRL3xDh",
        "outputId": "2f2b1ddc-411f-40e9-ccd9-8b0a7a55c085"
      },
      "outputs": [
        {
          "name": "stdout",
          "output_type": "stream",
          "text": [
            "['This is a test1This is a test2\\n', 'This is a test3\\n']\n"
          ]
        }
      ],
      "source": [
        "a=open(\"a.txt\",\"r\")  #打開檔案，可讀\n",
        "print(a.readlines())  #一次讀取多行，與a.read()命令相同\n",
        "a.close()  #close() 方法用於關閉一個已打開的文件"
      ]
    },
    {
      "cell_type": "code",
      "execution_count": null,
      "metadata": {
        "id": "GiDfin9u3xDi",
        "outputId": "bc402a97-3168-4abb-ad08-5361e28905f3"
      },
      "outputs": [
        {
          "name": "stdout",
          "output_type": "stream",
          "text": [
            "['This is a test1This is a test2\\n', 'This is a test3\\n']\n"
          ]
        }
      ],
      "source": [
        "#加上檔案是否存在的判斷\n",
        "if os.path.isfile(\"a.txt\"):  #判斷a.txt文件是否存在\n",
        "    a=open(\"a.txt\",\"r\") #打開檔案，可讀\n",
        "    print(a.readlines()) #顯示讀取的檔案\n",
        "    a.close()  #close() 方法用於關閉一個已打開的文件\n",
        "else: #否則\n",
        "    print(\"檔案不存在\") #顯示 檔案不存在"
      ]
    },
    {
      "cell_type": "markdown",
      "metadata": {
        "id": "zJQwaKc13xDj"
      },
      "source": [
        "## split函式"
      ]
    },
    {
      "cell_type": "code",
      "execution_count": null,
      "metadata": {
        "id": "AgIyTvFk3xDj",
        "outputId": "79dc16a7-ec83-4193-ba08-ed2b5e311997"
      },
      "outputs": [
        {
          "name": "stdout",
          "output_type": "stream",
          "text": [
            "['This', 'is', 'a', 'test1This', 'is', 'a', 'test2\\n']\n",
            "['This', 'is', 'a', 'test3\\n']\n"
          ]
        }
      ],
      "source": [
        "if os.path.isfile(\"a.txt\"):  #判斷a.txt文件是否存在\n",
        "    a=open(\"a.txt\",\"r\") #打開檔案，可讀\n",
        "    for line in a:\n",
        "        fields=line.split(\" \") #以空白為切割欄位\n",
        "        print(fields)\n",
        "    a.close() #關閉a文件\n",
        "else:  #否則\n",
        "    print(\"檔案不存在\")  #顯示 檔案不存在\n",
        "        "
      ]
    },
    {
      "cell_type": "markdown",
      "metadata": {
        "id": "-my_pLAR3xDk"
      },
      "source": [
        "## 附加檔案"
      ]
    },
    {
      "cell_type": "code",
      "execution_count": null,
      "metadata": {
        "id": "TEyEsBWP3xDl"
      },
      "outputs": [],
      "source": [
        "a=open(\"a.txt\", \"a\")  #打開檔案，可寫不能讀 寫入資料指向尾端\n",
        "a.write(\"This is test4\\n\") #在a文件中寫入 This is a test4\\n\n",
        "a.close()  #關閉a文件"
      ]
    },
    {
      "cell_type": "code",
      "execution_count": null,
      "metadata": {
        "id": "Q2Pphogt3xDm",
        "outputId": "e95ce1d7-a660-49b5-bec9-62bda1a444e6"
      },
      "outputs": [
        {
          "name": "stdout",
          "output_type": "stream",
          "text": [
            "['This is a test1This is a test2\\n', 'This is a test3\\n', 'This is test4\\n']\n"
          ]
        }
      ],
      "source": [
        "a=open(\"a.txt\",\"r\")  #打開檔案，可讀\n",
        "print(a.readlines())  #顯示讀取的檔案\n",
        "a.close()  #關閉a文件"
      ]
    },
    {
      "cell_type": "markdown",
      "metadata": {
        "id": "IbHc7OJq3xDm"
      },
      "source": [
        "## 比較a與r+的不同\n",
        "* a寫在檔案的結尾\n",
        "* r+寫在檔案的開頭"
      ]
    },
    {
      "cell_type": "code",
      "execution_count": null,
      "metadata": {
        "id": "zlEWc2XK3xDn"
      },
      "outputs": [],
      "source": [
        "a=open(\"a.txt\",\"r+\")  #打開檔案，可寫可讀 但寫入資料指向開頭\n",
        "a.write(\"This is a test5\\n\") #在a文件中寫入 This is a test5\\n\n",
        "a.close()  #關閉a文件"
      ]
    },
    {
      "cell_type": "code",
      "execution_count": null,
      "metadata": {
        "id": "f8IvdxUL3xDo",
        "outputId": "059a176e-a386-49f1-8f34-bf83b351ce7e"
      },
      "outputs": [
        {
          "name": "stdout",
          "output_type": "stream",
          "text": [
            "['This is a test5\\n', 'is is a test2\\n', 'This is a test3\\n', 'This is test4\\n']\n"
          ]
        }
      ],
      "source": [
        "a=open(\"a.txt\",\"r\")  #打開檔案，可讀\n",
        "print(a.readlines())  #顯示讀取的檔案\n",
        "a.close()  #關閉a文件"
      ]
    },
    {
      "cell_type": "markdown",
      "metadata": {
        "id": "TDZmjLCz3xDp"
      },
      "source": [
        "## 刪除檔案"
      ]
    },
    {
      "cell_type": "code",
      "execution_count": null,
      "metadata": {
        "id": "PPPT_7IV3xDq",
        "outputId": "b692f5a8-8b4b-42ca-d0d8-029300c3d650"
      },
      "outputs": [
        {
          "name": "stdout",
          "output_type": "stream",
          "text": [
            "檔案刪除成功\n",
            "False\n"
          ]
        }
      ],
      "source": [
        "if os.path.isfile(\"a.txt\"): #判斷a.txt文件是否存在\n",
        "    os.remove(\"a.txt\") #刪除 a.txt 文件\n",
        "    print(\"檔案刪除成功\")  #顯示 檔案刪除成功\n",
        "else:  #否則\n",
        "    print(\"找不到檔案\")  #顯示 找不到檔案\n",
        "print(os.path.isfile(\"a.txt\")) #顯示 a.txt 文件是否存在"
      ]
    },
    {
      "cell_type": "code",
      "execution_count": null,
      "metadata": {
        "id": "pc6gGEU-3xDq"
      },
      "outputs": [],
      "source": [
        ""
      ]
    }
  ],
  "metadata": {
    "kernelspec": {
      "display_name": "Python 3",
      "language": "python",
      "name": "python3"
    },
    "language_info": {
      "codemirror_mode": {
        "name": "ipython",
        "version": 3
      },
      "file_extension": ".py",
      "mimetype": "text/x-python",
      "name": "python",
      "nbconvert_exporter": "python",
      "pygments_lexer": "ipython3",
      "version": "3.8.5"
    },
    "colab": {
      "name": "Chap6.ipynb",
      "provenance": []
    }
  },
  "nbformat": 4,
  "nbformat_minor": 0
}