{
  "cells": [
    {
      "cell_type": "markdown",
      "metadata": {
        "id": "Hln8Xxx5v1qD"
      },
      "source": [
        "# Chap.4 numpy套件(numeric python)\n",
        "## 為什麼需要numpy?\n",
        "* numpy由c撰寫，速度快python 10~1000倍以上\n",
        "* numpy儲存結果較正確，python數字儲存不正確\n",
        "* numpy節省記憶體儲存空間\n",
        "* numpy的向量(矩陣計算)速度快\n",
        "* numpy的取值方便"
      ]
    },
    {
      "cell_type": "code",
      "execution_count": null,
      "metadata": {
        "id": "Pz3KRxpav1qN",
        "outputId": "4f70d0ff-18c0-4ce5-8de1-2e441ad60e99"
      },
      "outputs": [
        {
          "name": "stdout",
          "output_type": "stream",
          "text": [
            "[1, 2, 3, 4, 5, 1, 2, 3, 4, 5, 1, 2, 3, 4, 5]\n"
          ]
        }
      ],
      "source": [
        "a_list=[1,2,3,4,5] #a_list包含1,2,3,4,5\n",
        "print(a_list*3) #顯示a_list三次"
      ]
    },
    {
      "cell_type": "code",
      "execution_count": null,
      "metadata": {
        "id": "FmHUgnpKv1qR",
        "outputId": "797464c3-3aa7-4002-9a8c-29cd14d70bc5"
      },
      "outputs": [
        {
          "name": "stdout",
          "output_type": "stream",
          "text": [
            "[ 3  6  9 12 15]\n"
          ]
        }
      ],
      "source": [
        "#numpy套件的ndarray型態,提供element-wise的操作\n",
        "import numpy as np #import語句用来導入其他python文件\n",
        "a=np.array([1,2,3,4,5]) \n",
        "print(a*3) #顯示將a的所有元素都乘三倍"
      ]
    },
    {
      "cell_type": "code",
      "execution_count": null,
      "metadata": {
        "id": "X6T2ZRC4v1qS",
        "outputId": "0e2774e4-2b6c-46f8-9e45-a4da3b60cb12"
      },
      "outputs": [
        {
          "name": "stdout",
          "output_type": "stream",
          "text": [
            "<class 'numpy.ndarray'>\n",
            "(5,)\n",
            "int32\n",
            "1\n"
          ]
        }
      ],
      "source": [
        "a=np.array([1,2,3,4,5])\n",
        "print(type(a)) #顯示a的資料型態\n",
        "print(a.shape) #ndaary的形狀\n",
        "print(a.dtype) #資料的型態\n",
        "print(a.ndim) #維度"
      ]
    },
    {
      "cell_type": "code",
      "execution_count": null,
      "metadata": {
        "id": "ak-ugaLTv1qU",
        "outputId": "1b0b4b18-9ad8-4124-a7a8-248a98100237"
      },
      "outputs": [
        {
          "name": "stdout",
          "output_type": "stream",
          "text": [
            "[0. 0. 0. 0. 0. 0.]\n",
            "[[[0. 0. 0. 0.]\n",
            "  [0. 0. 0. 0.]\n",
            "  [0. 0. 0. 0.]]\n",
            "\n",
            " [[0. 0. 0. 0.]\n",
            "  [0. 0. 0. 0.]\n",
            "  [0. 0. 0. 0.]]]\n",
            "[0 1 2 3 4 5 6 7 8 9]\n"
          ]
        }
      ],
      "source": [
        "import numpy as np\n",
        "z=np.zeros(6) #在z中生成6個0\n",
        "print(z) #顯示z\n",
        "print(np.empty((2,3,4))) #快速創建ndarray類组，可以使用numpy.empty()函數，創建的類组内所有元素均為空\n",
        "print(np.arange(10)) #arange均勻間隔值的數組"
      ]
    },
    {
      "cell_type": "markdown",
      "metadata": {
        "id": "65NY8fFjv1qV"
      },
      "source": [
        "## ndarray的進階操作"
      ]
    },
    {
      "cell_type": "code",
      "execution_count": null,
      "metadata": {
        "id": "wmXjOKM4v1qW",
        "outputId": "e2e131bc-903f-4bdf-b5df-2583dc570f90"
      },
      "outputs": [
        {
          "name": "stdout",
          "output_type": "stream",
          "text": [
            "[0 1 2 3 4 5 6 7 8 9]\n",
            "0\n",
            "[0 1 2 3 4]\n"
          ]
        }
      ],
      "source": [
        "my_array=np.arange(10) #arange均勻間隔值的數組\n",
        "print(my_array) #顯示my_array\n",
        "print(my_array[0]) #顯示my_array第0個\n",
        "print(my_array[0:5]) #顯示my_array範圍0到第5個"
      ]
    },
    {
      "cell_type": "markdown",
      "metadata": {
        "id": "4fittON1v1qX"
      },
      "source": [
        "### 2維資料取值"
      ]
    },
    {
      "cell_type": "code",
      "execution_count": null,
      "metadata": {
        "id": "qbA8nKXIv1qZ",
        "outputId": "53ad033e-2ad4-4735-f0eb-f9f8a6956c97"
      },
      "outputs": [
        {
          "name": "stdout",
          "output_type": "stream",
          "text": [
            "[[0 1 2 3 4]\n",
            " [5 6 7 8 9]]\n",
            "[5 6 7 8 9]\n",
            "[1 6]\n",
            "6\n"
          ]
        }
      ],
      "source": [
        "my_2d_array=np.array([np.arange(0,5),np.arange(5,10)])\n",
        "print(my_2d_array) #顯示my_2d_array\n",
        "print(my_2d_array[1,:]) \n",
        "print(my_2d_array[:,1]) \n",
        "print(my_2d_array[1,1])"
      ]
    },
    {
      "cell_type": "code",
      "execution_count": null,
      "metadata": {
        "id": "vAjnAMAhv1qb",
        "outputId": "95e76096-6a0e-4c4b-9b06-e0b9b7a0a8e5"
      },
      "outputs": [
        {
          "name": "stdout",
          "output_type": "stream",
          "text": [
            "[0 1 2 3 4 5 6 7 8 9]\n",
            "(10,)\n",
            "[[0 1 2 3 4]\n",
            " [5 6 7 8 9]]\n",
            "[[ 0  1  2  3  4  5  6  7  8  9]\n",
            " [10 11 12 13 14 15 16 17 18 19]\n",
            " [20 21 22 23 24 25 26 27 28 29]\n",
            " [30 31 32 33 34 35 36 37 38 39]\n",
            " [40 41 42 43 44 45 46 47 48 49]\n",
            " [50 51 52 53 54 55 56 57 58 59]\n",
            " [60 61 62 63 64 65 66 67 68 69]\n",
            " [70 71 72 73 74 75 76 77 78 79]\n",
            " [80 81 82 83 84 85 86 87 88 89]\n",
            " [90 91 92 93 94 95 96 97 98 99]]\n"
          ]
        }
      ],
      "source": [
        "my_array=np.arange(0,10) #arange均勻間隔值的數組\n",
        "print(my_array)  #顯示my_array\n",
        "print(my_array.shape) #shape的功能是讀取矩陣的長度，顯示my_array的長度\n",
        "my_2d_array=my_array.reshape(2,5)  #reshape(行數，列數)常用來更改數據的行列數目\n",
        "print(my_2d_array) #顯示my_2d_array\n",
        "print((np.arange(0,100).reshape(10,10)))"
      ]
    },
    {
      "cell_type": "markdown",
      "metadata": {
        "id": "CQ4ytUgfv1qd"
      },
      "source": [
        "### numpy的空值nan"
      ]
    },
    {
      "cell_type": "code",
      "execution_count": null,
      "metadata": {
        "id": "QwstvBw2v1qe",
        "outputId": "343f73ef-6a0c-4fa0-91b1-eaaa5ebac5b2"
      },
      "outputs": [
        {
          "name": "stdout",
          "output_type": "stream",
          "text": [
            "[56.  8. 19. 14. nan]\n"
          ]
        }
      ],
      "source": [
        "b=np.array([56, 8, 19, 14, np.nan])\n",
        "print(b) #顯示b"
      ]
    },
    {
      "cell_type": "code",
      "execution_count": null,
      "metadata": {
        "id": "7fnTuGAav1qf"
      },
      "outputs": [],
      "source": [
        ""
      ]
    }
  ],
  "metadata": {
    "kernelspec": {
      "display_name": "Python 3",
      "language": "python",
      "name": "python3"
    },
    "language_info": {
      "codemirror_mode": {
        "name": "ipython",
        "version": 3
      },
      "file_extension": ".py",
      "mimetype": "text/x-python",
      "name": "python",
      "nbconvert_exporter": "python",
      "pygments_lexer": "ipython3",
      "version": "3.8.5"
    },
    "colab": {
      "name": "Chap4.ipynb",
      "provenance": []
    }
  },
  "nbformat": 4,
  "nbformat_minor": 0
}