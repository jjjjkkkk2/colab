{
  "cells": [
    {
      "cell_type": "markdown",
      "metadata": {
        "id": "wyqK38bUne02"
      },
      "source": [
        "# Python物件\n",
        "## List[串列] Tuple(元組) Dictionary{字典} Sets{集合}"
      ]
    },
    {
      "cell_type": "markdown",
      "metadata": {
        "id": "hCL0V78sne09"
      },
      "source": [
        "## List[串列]\n",
        "使用中括號[]包裹元素"
      ]
    },
    {
      "cell_type": "code",
      "execution_count": null,
      "metadata": {
        "id": "SC1Z3CI1ne0_",
        "outputId": "c15b2ac7-fadb-4d70-ccc9-4c925d5c51cc"
      },
      "outputs": [
        {
          "name": "stdout",
          "output_type": "stream",
          "text": [
            "3600\n"
          ]
        }
      ],
      "source": [
        "expenses = [1138, 101, 12, 300, 2049]   #費用包含 [1138,101,12,300,2049]\n",
        "print(sum(expenses))         #顯示費用總和"
      ]
    },
    {
      "cell_type": "markdown",
      "metadata": {
        "id": "sPOg9on2ne1D"
      },
      "source": [
        "### 索引"
      ]
    },
    {
      "cell_type": "code",
      "execution_count": null,
      "metadata": {
        "id": "FD1tR-_9ne1E",
        "outputId": "afed78b8-94c8-402f-d2be-dd5cc4028d72"
      },
      "outputs": [
        {
          "name": "stdout",
          "output_type": "stream",
          "text": [
            "1138\n",
            "101\n",
            "2049\n",
            "300\n"
          ]
        }
      ],
      "source": [
        "expenses = [1138, 101, 12, 300, 2049]  #費用包含 [1138,101,12,300,2049]\n",
        "print(expenses[0]) #索引從0開始\n",
        "print(expenses[1]) #索引從1開始\n",
        "print(expenses[-1]) #倒數第一個\n",
        "print(expenses[-2]) #倒數第二個"
      ]
    },
    {
      "cell_type": "code",
      "execution_count": null,
      "metadata": {
        "id": "mnJnkD_Ine1F",
        "outputId": "ac2fbcf3-cf8b-4de5-d1da-c52401c80381"
      },
      "outputs": [
        {
          "name": "stdout",
          "output_type": "stream",
          "text": [
            "python\n"
          ]
        }
      ],
      "source": [
        "my_list0 = [] #空串列\n",
        "my_list1 = list() \n",
        "my_list2 = ['python', 'javascript', 'C#']  #my_list2包含['python', 'javascript', 'C#']\n",
        "print(my_list2[0])  #顯示my_list2第0個"
      ]
    },
    {
      "cell_type": "markdown",
      "metadata": {
        "id": "fQ9eVen1ne1H"
      },
      "source": [
        "## list的長度"
      ]
    },
    {
      "cell_type": "code",
      "execution_count": null,
      "metadata": {
        "id": "w9T_M-ZTne1I",
        "outputId": "d025238c-7a0a-4280-f604-c20faa8e6d76"
      },
      "outputs": [
        {
          "name": "stdout",
          "output_type": "stream",
          "text": [
            "3\n",
            "6\n"
          ]
        }
      ],
      "source": [
        "my_list2 = ['python', 'javascript', 'C#'] #my_list2包含['python', 'javascript', 'C#']\n",
        "print(len(my_list2)) #顯示my_list2 參數數量\n",
        "print(len(my_list2[0])) #顯示my_list2的第0個字串長度數量"
      ]
    },
    {
      "cell_type": "markdown",
      "metadata": {
        "id": "NTQsqumCne1J"
      },
      "source": [
        "### 附加"
      ]
    },
    {
      "cell_type": "code",
      "execution_count": null,
      "metadata": {
        "id": "KoIW5PANne1L",
        "outputId": "9c3d6740-e4ad-483f-fa00-8b5d56a913fe"
      },
      "outputs": [
        {
          "name": "stdout",
          "output_type": "stream",
          "text": [
            "['python', 'javascript', 'C#', 'java']\n"
          ]
        }
      ],
      "source": [
        "my_list2 = ['python', 'javascript', 'C#'] #my_list2包含['python', 'javascript', 'C#']\n",
        "my_list2.append('java') #append()方法向列表的尾部添加一個新的元素， my_list2新增'java'\n",
        "print(my_list2)  #顯示my_list2"
      ]
    },
    {
      "cell_type": "code",
      "execution_count": null,
      "metadata": {
        "id": "PBKCLIIbne1M",
        "outputId": "bd944c04-2fb2-4ea9-af26-93f1af5552cd"
      },
      "outputs": [
        {
          "name": "stdout",
          "output_type": "stream",
          "text": [
            "['python', 'java', 'javascript', 'C#']\n"
          ]
        }
      ],
      "source": [
        "my_list2 = ['python', 'javascript', 'C#']  #my_list2包含['python', 'javascript', 'C#']\n",
        "my_list2.insert(1,'java')  #insert()函数用於将指定對象插入列表的指定位置，在my_list2中的第1個位置插入'java'\n",
        "print(my_list2)  #顯示my_list2"
      ]
    },
    {
      "cell_type": "markdown",
      "metadata": {
        "id": "6k1M0ft3ne1N"
      },
      "source": [
        "### 刪除"
      ]
    },
    {
      "cell_type": "code",
      "execution_count": null,
      "metadata": {
        "id": "UQYRDltkne1O",
        "outputId": "d5a516bd-a8f0-443e-de5c-205d15aa2fd6"
      },
      "outputs": [
        {
          "name": "stdout",
          "output_type": "stream",
          "text": [
            "['javascript', 'C#']\n",
            "['javascript']\n",
            "[]\n"
          ]
        }
      ],
      "source": [
        "my_list2 = ['python', 'javascript', 'C#']  #my_list2包含['python', 'javascript', 'C#']\n",
        "my_list2.remove('python') #移除指定元素\n",
        "print(my_list2)  #顯示my_list2\n",
        "del my_list2[-1] #刪除指定位置的元素\n",
        "print(my_list2)  #顯示my_list2\n",
        "my_list2.clear() #清除全部\n",
        "print(my_list2)  #顯示my_list2"
      ]
    },
    {
      "cell_type": "code",
      "execution_count": null,
      "metadata": {
        "id": "B-g5-xezne1P",
        "outputId": "b7de6c24-99d0-414d-8292-1b5768a26049"
      },
      "outputs": [
        {
          "name": "stdout",
          "output_type": "stream",
          "text": [
            "[1, 2, 1, 2, 1, 2, 1, 2, 1, 2]\n"
          ]
        }
      ],
      "source": [
        "a=[1,2]   #a=[1,2]\n",
        "print(a*5) #顯示a五次"
      ]
    },
    {
      "cell_type": "markdown",
      "metadata": {
        "id": "xitMPmZTne1R"
      },
      "source": [
        "### list取值"
      ]
    },
    {
      "cell_type": "code",
      "execution_count": null,
      "metadata": {
        "id": "FDU_m_gwne1R",
        "outputId": "0009bf31-6ffb-4a94-a2c2-edcb9a6b34ae"
      },
      "outputs": [
        {
          "name": "stdout",
          "output_type": "stream",
          "text": [
            "[1, 2, 3]\n",
            "[1, 3, 5, 7, 9]\n",
            "[1, 2, 3, 4, 5, 6, 7, 8, 9]\n",
            "[1, 2, 3, 4, 5, 6, 7, 8, 9]\n",
            "[1, 2, 3, 4, 5, 6, 7, 8, 9]\n"
          ]
        }
      ],
      "source": [
        "a=[1,2,3,4,5,6,7,8,9]  #a=[1,2,3,4,5,6,7,8,9]\n",
        "b=a[0:3] #範圍取值，0,1,2不包含3\n",
        "print(b)  #顯示b\n",
        "c=a[0:9:2] #間隔2取值\n",
        "print(c)  #顯示c\n",
        "d = a[0: ] #範圍取值0,1,2,...到9\n",
        "print(d) #顯示d\n",
        "e = a[ :9]  #範圍取值0,1,2,...到9\n",
        "print(e)  #顯示e\n",
        "f = a[:] #取全部值\n",
        "print(f)  #顯示f"
      ]
    },
    {
      "cell_type": "code",
      "execution_count": null,
      "metadata": {
        "id": "MB0Bpvnkne1T",
        "outputId": "88ad09f9-6d31-4b1c-955f-498b376551f7"
      },
      "outputs": [
        {
          "name": "stdout",
          "output_type": "stream",
          "text": [
            "[1, 2, 3, 4, 5, 6, 7]\n",
            "1\n",
            "7\n",
            "0\n",
            "4\n",
            "[7, 6, 5, 4, 3, 2, 1]\n",
            "[1, 2, 3, 4, 5, 6, 7]\n"
          ]
        }
      ],
      "source": [
        "a=[1,2,3,4,5,6,7,8,9]\n",
        "del a[7:9] #刪除某範圍值, 7, 8\n",
        "print(a)  #顯示a\n",
        "print(min(a)) #最小值\n",
        "print(max(a)) #最大值\n",
        "print(a.index(1)) #找出1所在的第一個索引值\n",
        "b=[1,0,0,1,1,1]  #顯示b=[1,0,0,1,1,1]\n",
        "print(b.count(1)) #1出現的次數\n",
        "a.reverse() #串列反轉\n",
        "print(a)  #顯示a\n",
        "a.sort() #串列由小到大排序,a的值會被改變\n",
        "print(a)  #顯示a"
      ]
    },
    {
      "cell_type": "code",
      "execution_count": null,
      "metadata": {
        "id": "lLc5KDk7ne1T",
        "outputId": "e1f804af-24ff-4334-b3e3-5a03ce3c9c62"
      },
      "outputs": [
        {
          "name": "stdout",
          "output_type": "stream",
          "text": [
            "[12, 101, 300, 1138, 2049] [1138, 101, 12, 300, 2049]\n"
          ]
        }
      ],
      "source": [
        "expenses = [1138, 101, 12, 300, 2049]  #費用包含 [1138,101,12,300,2049]\n",
        "s=sorted(expenses) #expenses的值不會變\n",
        "print(s, expenses) #顯示新排序的expenses"
      ]
    },
    {
      "cell_type": "code",
      "execution_count": null,
      "metadata": {
        "id": "ULUnmppvne1U"
      },
      "outputs": [],
      "source": [
        ""
      ]
    }
  ],
  "metadata": {
    "kernelspec": {
      "display_name": "Python 3",
      "language": "python",
      "name": "python3"
    },
    "language_info": {
      "codemirror_mode": {
        "name": "ipython",
        "version": 3
      },
      "file_extension": ".py",
      "mimetype": "text/x-python",
      "name": "python",
      "nbconvert_exporter": "python",
      "pygments_lexer": "ipython3",
      "version": "3.8.5"
    },
    "colab": {
      "name": "Chap3.ipynb",
      "provenance": []
    }
  },
  "nbformat": 4,
  "nbformat_minor": 0
}