{
  "cells": [
    {
      "cell_type": "markdown",
      "metadata": {
        "id": "XqmT5P8LDJ66"
      },
      "source": [
        "# 函式(數)"
      ]
    },
    {
      "cell_type": "markdown",
      "metadata": {
        "id": "qx4Gw1FcDJ7D"
      },
      "source": [
        "## 傳統的寫法"
      ]
    },
    {
      "cell_type": "code",
      "execution_count": null,
      "metadata": {
        "id": "qAT5SFOGDJ7F",
        "outputId": "4f25a2ca-d712-45df-dc40-98803f78d571"
      },
      "outputs": [
        {
          "name": "stdout",
          "output_type": "stream",
          "text": [
            "請輸入圓的半徑：10\n",
            "圓的面積為： 314.1592653589793\n"
          ]
        }
      ],
      "source": [
        "import math  #導入math模組\n",
        "radius = eval(input(\"請輸入圓的半徑：\")) #把輸入的字串變成數學計算型態\n",
        "print(\"圓的面積為：\", radius * radius * math.pi) #顯示 圓的面積為: 半徑*半徑*pi 的數"
      ]
    },
    {
      "cell_type": "markdown",
      "metadata": {
        "id": "ii9C-ugsDJ7J"
      },
      "source": [
        "## 面積計算函示"
      ]
    },
    {
      "cell_type": "code",
      "execution_count": null,
      "metadata": {
        "id": "8t4dgqXqDJ7K",
        "outputId": "09b8bf2b-16f1-4939-d5ff-0b959261510c"
      },
      "outputs": [
        {
          "name": "stdout",
          "output_type": "stream",
          "text": [
            "314.1592653589793\n"
          ]
        }
      ],
      "source": [
        "import math  #導入math模組\n",
        "def circle_area(radius):\n",
        "    area = radius * radius * math.pi\n",
        "    return area #返回area\n",
        "\n",
        "print(circle_area(10))"
      ]
    },
    {
      "cell_type": "code",
      "execution_count": null,
      "metadata": {
        "id": "sqWulRctDJ7M"
      },
      "outputs": [],
      "source": [
        ""
      ]
    }
  ],
  "metadata": {
    "kernelspec": {
      "display_name": "Python 3",
      "language": "python",
      "name": "python3"
    },
    "language_info": {
      "codemirror_mode": {
        "name": "ipython",
        "version": 3
      },
      "file_extension": ".py",
      "mimetype": "text/x-python",
      "name": "python",
      "nbconvert_exporter": "python",
      "pygments_lexer": "ipython3",
      "version": "3.8.5"
    },
    "colab": {
      "name": "Chap5.ipynb",
      "provenance": []
    }
  },
  "nbformat": 4,
  "nbformat_minor": 0
}